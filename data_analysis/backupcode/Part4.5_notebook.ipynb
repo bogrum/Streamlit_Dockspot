{
 "cells": [
  {
   "cell_type": "code",
   "execution_count": 1,
   "metadata": {},
   "outputs": [],
   "source": [
    "import pandas as pd\n",
    "import re\n",
    "from openbabel import pybel\n",
    "\n",
    "from opencadd.structure.core import Structure\n",
    "from opencadd.io.dataframe import DataFrame\n",
    "import warnings\n",
    "import numpy as np\n",
    "import subprocess\n",
    "import biopandas\n",
    "from config import processed_dir\n",
    "\n",
    "mostsimilar_file_dir = f\"{processed_dir}/most_similar.txt\"\n",
    "\n",
    "# Open the text file\n",
    "with open(mostsimilar_file_dir, \"r\") as file:\n",
    "    # Read the entire content\n",
    "    content = file.read()\n",
    "\n",
    "# Split the content into blocks based on \"File name,\"\n",
    "blocks = content.strip().split('File name,')\n",
    "\n",
    "# Lists to store file names and residues\n",
    "file_list = []\n",
    "residue_list = []\n"
   ]
  },
  {
   "cell_type": "code",
   "execution_count": 2,
   "metadata": {},
   "outputs": [
    {
     "data": {
      "text/plain": [
       "['',\n",
       " '4FOB_backbone_108\\nFrame,108\\npocket_index,1\\nprobability,0.331\\nresidues, A_1060 A_1061 A_1062 A_1063 A_1064 A_1122 A_1123 A_1124 A_1125 A_1126 A_1130 A_1199 A_1200 A_1201 A_1202 A_1255 A_1256 A_1257 A_1258 A_1259 A_1260 A_1261\\n',\n",
       " '4FOB_backbone_72\\nFrame,72\\npocket_index,1\\nprobability,0.338\\nresidues, A_1073 A_1074 A_1075 A_1076 A_1079 A_1080 A_1110 A_1111 A_1113 A_1115 A_1116 A_1117 A_1118 A_1133 A_1134 A_1135 A_1143 A_1144 A_1147 A_1148 A_1149 A_1183 A_1184 A_1185 A_1186 A_1188 A_1193 A_1194 A_1195 A_1196\\n',\n",
       " '4FOB_backbone_2321\\nFrame,2321\\npocket_index,1\\nprobability,0.449\\nresidues, A_1073 A_1076 A_1078 A_1080 A_1109 A_1110 A_1111 A_1112 A_1115 A_1116 A_1134 A_1135 A_1136 A_1137 A_1138 A_1144 A_1168 A_1171 A_1172 A_1174 A_1175 A_1182 A_1183 A_1184 A_1185 A_1186 A_1194 A_1195 A_1196']"
      ]
     },
     "execution_count": 2,
     "metadata": {},
     "output_type": "execute_result"
    }
   ],
   "source": [
    "blocks"
   ]
  },
  {
   "cell_type": "code",
   "execution_count": 3,
   "metadata": {},
   "outputs": [],
   "source": [
    "\n",
    "\n",
    "data = {}\n",
    "\n",
    "\n",
    "# Iterate through the blocks\n",
    "for block in blocks[1:]:  # Start from index 1 to skip the empty string before the first 'File name,'\n",
    "    # Split each block by lines\n",
    "    lines = block.strip().split('\\n')\n",
    "    # Extract file name and residues\n",
    "    file_name = lines[0]\n",
    "    residues = lines[-1].split(\", \")[1:]  # Extract residues from the last line, skipping the first element which is 'residues'\n",
    "    \n",
    "    # Append file name and residues to their respective lists\n",
    "    file_list.append(file_name)\n",
    "    residue_list.append(residues)\n",
    "    data[file_name] = residues\n"
   ]
  },
  {
   "cell_type": "code",
   "execution_count": 5,
   "metadata": {},
   "outputs": [
    {
     "name": "stdout",
     "output_type": "stream",
     "text": [
      "File name: 4FOB_backbone_108\n",
      "Residues: A_1060 A_1061 A_1062 A_1063 A_1064 A_1122 A_1123 A_1124 A_1125 A_1126 A_1130 A_1199 A_1200 A_1201 A_1202 A_1255 A_1256 A_1257 A_1258 A_1259 A_1260 A_1261\n",
      "\n",
      "File name: 4FOB_backbone_72\n",
      "Residues: A_1073 A_1074 A_1075 A_1076 A_1079 A_1080 A_1110 A_1111 A_1113 A_1115 A_1116 A_1117 A_1118 A_1133 A_1134 A_1135 A_1143 A_1144 A_1147 A_1148 A_1149 A_1183 A_1184 A_1185 A_1186 A_1188 A_1193 A_1194 A_1195 A_1196\n",
      "\n",
      "File name: 4FOB_backbone_2321\n",
      "Residues: A_1073 A_1076 A_1078 A_1080 A_1109 A_1110 A_1111 A_1112 A_1115 A_1116 A_1134 A_1135 A_1136 A_1137 A_1138 A_1144 A_1168 A_1171 A_1172 A_1174 A_1175 A_1182 A_1183 A_1184 A_1185 A_1186 A_1194 A_1195 A_1196\n",
      "\n",
      "['4FOB_backbone_108.pdb', '4FOB_backbone_72.pdb', '4FOB_backbone_2321.pdb']\n",
      "['/home/bogrum/project_files/4FOB/processed/4FOB_backbone_pdb_files/4FOB_backbone_108.pdb', '/home/bogrum/project_files/4FOB/processed/4FOB_backbone_pdb_files/4FOB_backbone_72.pdb', '/home/bogrum/project_files/4FOB/processed/4FOB_backbone_pdb_files/4FOB_backbone_2321.pdb']\n"
     ]
    }
   ],
   "source": [
    "from config import processed_dir\n",
    "\n",
    "# Print file names and corresponding residues\n",
    "for file_name, residues in zip(file_list, residue_list):\n",
    "    print(\"File name:\", file_name)\n",
    "    print(\"Residues:\", \", \".join(residues))\n",
    "    print()  # Empty line for separation\n",
    "\n",
    "pdb_list=[]\n",
    "for i in file_list:\n",
    "    pdb_list.append(\"{}.pdb\".format(i))\n",
    "#retrieve pdb files from the folders\n",
    "print(pdb_list)\n",
    "\n",
    "\n",
    "\n",
    "pdb_files = f\"{processed_dir}/4FOB_backbone_pdb_files\"\n",
    "dock_locations = []\n",
    "for x in range(0,len(pdb_list)):\n",
    "    dock_locations.append(\"{}/{}\".format(pdb_files,pdb_list[x]))\n",
    "    text = \"{}/{}\".format(pdb_files,pdb_list[x]),\"r\"\n",
    "    \n",
    "    with open(\"{}/{}\".format(pdb_files,pdb_list[x]),\"r\") as file:\n",
    "        prot = file.read()\n",
    "        \n",
    "        \n",
    "\n",
    "print(dock_locations)\n"
   ]
  },
  {
   "cell_type": "code",
   "execution_count": 6,
   "metadata": {},
   "outputs": [
    {
     "data": {
      "text/plain": [
       "'/home/bogrum/project_files/4FOB/processed/4FOB_backbone_pdb_files'"
      ]
     },
     "execution_count": 6,
     "metadata": {},
     "output_type": "execute_result"
    }
   ],
   "source": [
    "pdb_files "
   ]
  },
  {
   "cell_type": "code",
   "execution_count": 7,
   "metadata": {},
   "outputs": [
    {
     "name": "stdout",
     "output_type": "stream",
     "text": [
      "['1060', '1061', '1062', '1063', '1064', '1122', '1123', '1124', '1125', '1126', '1130', '1199', '1200', '1201', '1202', '1255', '1256', '1257', '1258', '1259', '1260', '1261']\n",
      "['1073', '1074', '1075', '1076', '1079', '1080', '1110', '1111', '1113', '1115', '1116', '1117', '1118', '1133', '1134', '1135', '1143', '1144', '1147', '1148', '1149', '1183', '1184', '1185', '1186', '1188', '1193', '1194', '1195', '1196']\n",
      "['1073', '1076', '1078', '1080', '1109', '1110', '1111', '1112', '1115', '1116', '1134', '1135', '1136', '1137', '1138', '1144', '1168', '1171', '1172', '1174', '1175', '1182', '1183', '1184', '1185', '1186', '1194', '1195', '1196']\n",
      "[['1060', '1061', '1062', '1063', '1064', '1122', '1123', '1124', '1125', '1126', '1130', '1199', '1200', '1201', '1202', '1255', '1256', '1257', '1258', '1259', '1260', '1261'], ['1073', '1074', '1075', '1076', '1079', '1080', '1110', '1111', '1113', '1115', '1116', '1117', '1118', '1133', '1134', '1135', '1143', '1144', '1147', '1148', '1149', '1183', '1184', '1185', '1186', '1188', '1193', '1194', '1195', '1196'], ['1073', '1076', '1078', '1080', '1109', '1110', '1111', '1112', '1115', '1116', '1134', '1135', '1136', '1137', '1138', '1144', '1168', '1171', '1172', '1174', '1175', '1182', '1183', '1184', '1185', '1186', '1194', '1195', '1196']]\n"
     ]
    }
   ],
   "source": [
    "res_list = []\n",
    "for i in range(len(residue_list)):\n",
    "    chosen = residue_list[i]\n",
    "    chosen = str(chosen)\n",
    "    chosen = chosen.replace(\"['\",\"\")\n",
    "    chosen = chosen.replace(\"']\",\"\")\n",
    "    chosen = chosen.replace(\"A_\",\"\")\n",
    "    chosen = chosen.split(\" \")    \n",
    "    # Remove the common string from the beginning of each element in the list\n",
    "    chosen = [element.replace('X_', '') for element in chosen]\n",
    "    res_list.append(chosen)\n",
    "\n",
    "# Print the first three elements from res_list\n",
    "for i in range(3):\n",
    "    print(res_list[i])\n",
    "\n",
    "print(res_list)\n"
   ]
  },
  {
   "cell_type": "code",
   "execution_count": 8,
   "metadata": {},
   "outputs": [
    {
     "name": "stdout",
     "output_type": "stream",
     "text": [
      "['output_4FOB_backbone_108.pdb', 'output_4FOB_backbone_72.pdb', 'output_4FOB_backbone_2321.pdb', '4FOB.pdb']\n"
     ]
    }
   ],
   "source": [
    "\n",
    "#annotate atoms that are useful\n",
    "def keep_atoms(input_pdb_file, output_pdb_file, atom_numbers_to_keep):\n",
    "    with open(input_pdb_file, 'r') as f:\n",
    "        lines = f.readlines()\n",
    "\n",
    "    with open(output_pdb_file, 'w') as f:\n",
    "        for line in lines:\n",
    "            if line.startswith('ATOM  '):\n",
    "                #atom_name = line.strip()\n",
    "                \n",
    "                # remove spaces from atom name from each line and strip spaces from it\n",
    "                \n",
    "                atom_name = line[0:11].replace(\"ATOM\",\"\").strip()                        \n",
    "                #print(atom_name)\n",
    "                if atom_name in atom_numbers_to_keep:\n",
    "                    f.write(line)\n",
    "\n",
    "\n",
    "\n",
    "output_pdb_list = []\n",
    "for i in range(len(pdb_list)):\n",
    "    # Define the output PDB file path\n",
    "    output_pdb_file = 'output_{}.pdb'.format(file_list[i])\n",
    "    output_pdb_list.append(output_pdb_file)\n",
    "    prot_loc = \"{}/{}\".format(pdb_files,pdb_list[i])\n",
    "    keep_atoms(prot_loc, output_pdb_file, res_list[i])\n",
    "prot=\"4FOB.pdb\"\n",
    "#subprocess.call(f\"wget https://files.rcsb.org/download/{prot}\",shell=True)\n",
    "output_pdb_list.append(prot)\n",
    "#compute the center of the selected pocket\n",
    "\n",
    "#compute the size of the pocket\n",
    "\n",
    "#later to be used in docking\n",
    "print(output_pdb_list)"
   ]
  },
  {
   "cell_type": "code",
   "execution_count": 9,
   "metadata": {},
   "outputs": [
    {
     "data": {
      "text/plain": [
       "['output_4FOB_backbone_108.pdb',\n",
       " 'output_4FOB_backbone_72.pdb',\n",
       " 'output_4FOB_backbone_2321.pdb',\n",
       " '4FOB.pdb']"
      ]
     },
     "execution_count": 9,
     "metadata": {},
     "output_type": "execute_result"
    }
   ],
   "source": [
    "output_pdb_list"
   ]
  },
  {
   "cell_type": "code",
   "execution_count": 10,
   "metadata": {},
   "outputs": [],
   "source": [
    "import numpy as np\n",
    "\n",
    "def read_pdb(pdb_content):\n",
    "    coordinates = []\n",
    "    for line in pdb_content.split('\\n'):\n",
    "        if line.startswith('ATOM'):\n",
    "            x = float(line[30:38])\n",
    "            y = float(line[38:46])\n",
    "            z = float(line[46:54])\n",
    "            coordinates.append([x, y, z])\n",
    "    return np.array(coordinates)\n",
    "\n",
    "def center_of_mass(coordinates):\n",
    "    total_mass = len(coordinates)\n",
    "    com = np.sum(coordinates, axis=0) / total_mass\n",
    "    return com\n",
    "\n",
    "def create_grid_box(coordinates, padding=2.0):\n",
    "    min_coords = np.min(coordinates, axis=0)\n",
    "    max_coords = np.max(coordinates, axis=0)\n",
    "\n",
    "    grid_box_min = min_coords - padding\n",
    "    grid_box_max = max_coords + padding\n",
    "\n",
    "    return grid_box_min, grid_box_max\n",
    "\n",
    "  # Example list of file names\n"
   ]
  },
  {
   "cell_type": "code",
   "execution_count": 11,
   "metadata": {},
   "outputs": [],
   "source": [
    "#THIS CELL IS THE PDQBT CONVERTER\n",
    "def pdb_to_pdbqt(pdb_path, pdbqt_path, pH=7.4):\n",
    "    \"\"\"\n",
    "    Convert a PDB file to a PDBQT file needed by docking programs of the AutoDock family.\n",
    "\n",
    "    Parameters\n",
    "    ----------\n",
    "    pdb_path: str or pathlib.Path\n",
    "        Path to input PDB file.\n",
    "    pdbqt_path: str or pathlib.path\n",
    "        Path to output PDBQT file.\n",
    "    pH: float\n",
    "        Protonation at given pH.\n",
    "    \"\"\"\n",
    "    molecule = list(pybel.readfile(\"pdb\", str(pdb_path)))[0]\n",
    "    # add hydrogens at given pH\n",
    "    #molecule.OBMol.CorrectForPH(pH)\n",
    "    #molecule.addh()\n",
    "    # add partial charges to each atom\n",
    "    for atom in molecule.atoms:\n",
    "        atom.OBAtom.GetPartialCharge()\n",
    "    molecule.write(\"pdbqt\", str(pdbqt_path), overwrite=True)\n",
    "    return"
   ]
  },
  {
   "cell_type": "code",
   "execution_count": 19,
   "metadata": {},
   "outputs": [
    {
     "name": "stdout",
     "output_type": "stream",
     "text": [
      "/home/bogrum/project_files/4FOB/processed/4FOB_backbone_pdb_files/4FOB_backbone_108.pdb\n",
      "/home/bogrum/project_files/4FOB/processed/4FOB_backbone_pdb_files/4FOB_backbone_72.pdb\n",
      "/home/bogrum/project_files/4FOB/processed/4FOB_backbone_pdb_files/4FOB_backbone_2321.pdb\n"
     ]
    }
   ],
   "source": [
    "# convert protein to PDBQT format\n",
    "for a in dock_locations:\n",
    "    pdb_to_pdbqt(a,a+\"qt\")\n",
    "    print(a)\n",
    "\n",
    "    "
   ]
  },
  {
   "cell_type": "code",
   "execution_count": 12,
   "metadata": {},
   "outputs": [
    {
     "data": {
      "text/plain": [
       "['output_4FOB_backbone_108.pdb',\n",
       " 'output_4FOB_backbone_72.pdb',\n",
       " 'output_4FOB_backbone_2321.pdb',\n",
       " '4FOB.pdb']"
      ]
     },
     "execution_count": 12,
     "metadata": {},
     "output_type": "execute_result"
    }
   ],
   "source": [
    "output_pdb_list"
   ]
  },
  {
   "cell_type": "code",
   "execution_count": 13,
   "metadata": {},
   "outputs": [
    {
     "name": "stdout",
     "output_type": "stream",
     "text": [
      "Center of mass for output_4FOB_backbone_108.pdb: (50.48166666666666, 24.965000000000003, 42.28333333333334)\n",
      "Invalid input. Please enter 'yes' or 'no'.\n",
      "Default grid box min for output_4FOB_backbone_108.pdb: (39.71, 19.54, 34.69)\n",
      "Information saved to output_4FOB_backbone_108.txt\n",
      "Center of mass for output_4FOB_backbone_72.pdb: (44.08, 30.94857142857143, 33.738571428571426)\n",
      "Default grid box min for output_4FOB_backbone_72.pdb: (37.8, 26.46, 29.35)\n",
      "Information saved to output_4FOB_backbone_72.txt\n",
      "Center of mass for output_4FOB_backbone_2321.pdb: (38.72875, 33.6975, 31.65125)\n",
      "Default grid box min for output_4FOB_backbone_2321.pdb: (36.41, 26.64, 29.27)\n",
      "Information saved to output_4FOB_backbone_2321.txt\n",
      "Center of mass for 4FOB.pdb: (13.438662931034461, 10.152189655172426, 16.828054741379336)\n",
      "Default grid box min for 4FOB.pdb: (-13.776, -23.755, -10.017)\n",
      "Information saved to 4FOB.txt\n"
     ]
    }
   ],
   "source": [
    "import os\n",
    "\n",
    "def process_pdb_files(output_pdb_list):\n",
    "    for filename in output_pdb_list:\n",
    "        # Define the input PDB file path\n",
    "        input_pdb_file = filename\n",
    "        indeks = filename.index(input_pdb_file)\n",
    "        reseptor = dock_locations[indeks]\n",
    "        try:\n",
    "            with open(filename, 'r') as f:\n",
    "                pdb_content = f.read()\n",
    "\n",
    "            # Read coordinates\n",
    "            coordinates = read_pdb(pdb_content)\n",
    "\n",
    "            # Calculate center of mass\n",
    "            com = center_of_mass(coordinates)\n",
    "\n",
    "            # Prompt user to specify center of mass coordinates\n",
    "            while True:\n",
    "                respond_com = input(\"Do you want to use the center of the pocket or provide custom coordinates as the center of mass? [yes/no]: \").lower()\n",
    "                if respond_com == \"yes\":\n",
    "                    x_com, y_com, z_com = com\n",
    "                    break\n",
    "                elif respond_com == \"no\":\n",
    "                    while True:\n",
    "                        try:\n",
    "                            x_com, y_com, z_com = map(float, input(\"Enter custom coordinates for center of mass (comma-separated x,y,z): \").split(','))\n",
    "                            break\n",
    "                        except ValueError:\n",
    "                            print(\"Invalid input. Please provide valid numerical coordinates.\")\n",
    "                    break\n",
    "                else:\n",
    "                    print(\"Invalid input. Please enter 'yes' or 'no'.\")\n",
    "\n",
    "            print(f\"Center of mass for {input_pdb_file}: ({x_com}, {y_com}, {z_com})\")\n",
    "\n",
    "            # Prompt user to specify grid box coordinates\n",
    "            while True:\n",
    "                respond_max = input(\"Would you like to use default grid box coordinates or provide custom coordinates? [yes/no]: \").lower()\n",
    "                if respond_max == \"yes\":\n",
    "                    # Use default padding value\n",
    "                    padding = 2.0\n",
    "                    while True:\n",
    "                        pad = input(f\"Padding value is {padding} as default. Do you want to change it? [yes/no]: \").lower()\n",
    "                        if pad == \"no\":\n",
    "                            break\n",
    "                        elif pad == \"yes\":\n",
    "                            try:\n",
    "                                padding = float(input(\"Enter new padding value: \"))\n",
    "                                break\n",
    "                            except ValueError:\n",
    "                                print(\"Invalid input. Please provide a valid number.\")\n",
    "                        else:\n",
    "                            print(\"Invalid input. Please enter 'yes' or 'no'.\")\n",
    "\n",
    "                    grid_box_min, grid_box_max = create_grid_box(coordinates, padding)\n",
    "\n",
    "                    while True:\n",
    "                        max_min = input(\"Do you want to choose the max or min grid box? [max/min]: \").lower()\n",
    "                        if max_min == \"max\":\n",
    "                            x_grid, y_grid, z_grid = grid_box_max\n",
    "                            print(f\"Default grid box max for {input_pdb_file}: ({x_grid}, {y_grid}, {z_grid})\")\n",
    "                            break\n",
    "                        elif max_min == \"min\":\n",
    "                            x_grid, y_grid, z_grid = grid_box_min\n",
    "                            print(f\"Default grid box min for {input_pdb_file}: ({x_grid}, {y_grid}, {z_grid})\")\n",
    "                            break\n",
    "                        else:\n",
    "                            print(\"Invalid input. Please enter 'max' or 'min'.\")\n",
    "                    \n",
    "                    break\n",
    "                elif respond_max == \"no\":\n",
    "                    while True:\n",
    "                        try:\n",
    "                            x_grid, y_grid, z_grid = map(float, input(\"Enter custom grid box coordinates (comma-separated x,y,z): \").split(','))\n",
    "                            print(f\"Custom grid box for {input_pdb_file}: ({x_grid}, {y_grid}, {z_grid})\")\n",
    "                            break\n",
    "                        except ValueError:\n",
    "                            print(\"Invalid input. Please provide valid numerical coordinates.\")\n",
    "                    break\n",
    "                else:\n",
    "                    print(\"Invalid input. Please enter 'yes' or 'no'.\")\n",
    "            \n",
    "            # Write COM and grid box info to a text file\n",
    "            output_file_path = os.path.splitext(input_pdb_file)[0] + '.txt'\n",
    "            with open(output_file_path, 'w') as output_file:\n",
    "                output_file.writelines(\"receptor = {} \\n\".format(reseptor+'qt'))\n",
    "                #output_file.write(f\"Center of mass: ({x_com}, {y_com}, {z_com})\\n\")\n",
    "                output_file.writelines(f\"center_x = {x_com}\\n\")\n",
    "                output_file.writelines(f\"center_y = {y_com}\\n\")\n",
    "                output_file.writelines(f\"center_z = {z_com}\\n\")\n",
    "                if max_min == \"max\":\n",
    "                    x_grid, y_grid, z_grid = grid_box_max\n",
    "                    #output_file.write(f\"Grid box max: ({grid_box_max[0]}, {grid_box_max[1]}, {grid_box_max[2]})\\n\")\n",
    "                    output_file.writelines(f\"size_x = {grid_box_max[0]}\\n\")\n",
    "                    output_file.writelines(f\"size_y = {grid_box_max[1]}\\n\")\n",
    "                    output_file.writelines(f\"size_z = {grid_box_max[2]}\\n\")\n",
    "                    \n",
    "                elif max_min == \"min\":\n",
    "                    x_grid, y_grid, z_grid = grid_box_min\n",
    "                    #output_file.write(f\"Grid box min: ({grid_box_min[0]}, {grid_box_min[1]}, {grid_box_min[2]})\\n\")\n",
    "                    output_file.writelines(f\"size_x = {grid_box_min[0]}\\n\")\n",
    "                    output_file.writelines(f\"size_y = {grid_box_min[1]}\\n\")\n",
    "                    output_file.writelines(f\"size_z = {grid_box_min[2]}\\n\")\n",
    "                output_file.writelines(\"energy_range = 3000\\n\")\n",
    "                output_file.writelines(\"num_modes = 10\\n\")\n",
    "                output_file.writelines(\"exhaustiveness = 8\\n\")\n",
    "\n",
    "\n",
    "                \n",
    "                \n",
    "                \n",
    "            print(f\"Information saved to {output_file_path}\")\n",
    "            \n",
    "        except FileNotFoundError:\n",
    "            print(\"File\", input_pdb_file, \"not found.\")\n",
    "  # List of PDB file names\n",
    "    \n",
    "process_pdb_files(output_pdb_list)\n"
   ]
  }
 ],
 "metadata": {
  "kernelspec": {
   "display_name": "Python 3",
   "language": "python",
   "name": "python3"
  },
  "language_info": {
   "codemirror_mode": {
    "name": "ipython",
    "version": 3
   },
   "file_extension": ".py",
   "mimetype": "text/x-python",
   "name": "python",
   "nbconvert_exporter": "python",
   "pygments_lexer": "ipython3",
   "version": "3.10.14"
  }
 },
 "nbformat": 4,
 "nbformat_minor": 2
}
